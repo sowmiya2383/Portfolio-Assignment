{
 "cells": [
  {
   "cell_type": "code",
   "execution_count": 20,
   "metadata": {},
   "outputs": [
    {
     "name": "stdout",
     "output_type": "stream",
     "text": [
      "Defaulting to user installation because normal site-packages is not writeable\n",
      "Requirement already satisfied: mstarpy in c:\\users\\sowmy\\appdata\\roaming\\python\\python312\\site-packages (2.0.0)\n",
      "Requirement already satisfied: beautifulsoup4>=4.11.1 in c:\\users\\sowmy\\appdata\\roaming\\python\\python312\\site-packages (from mstarpy) (4.12.3)\n",
      "Requirement already satisfied: pandas>=1.3.5 in c:\\users\\sowmy\\appdata\\roaming\\python\\python312\\site-packages (from mstarpy) (2.2.2)\n",
      "Requirement already satisfied: requests>=2.28.1 in c:\\users\\sowmy\\appdata\\roaming\\python\\python312\\site-packages (from mstarpy) (2.32.3)\n",
      "Requirement already satisfied: soupsieve>1.2 in c:\\users\\sowmy\\appdata\\roaming\\python\\python312\\site-packages (from beautifulsoup4>=4.11.1->mstarpy) (2.6)\n",
      "Requirement already satisfied: numpy>=1.26.0 in c:\\users\\sowmy\\appdata\\roaming\\python\\python312\\site-packages (from pandas>=1.3.5->mstarpy) (1.26.4)\n",
      "Requirement already satisfied: python-dateutil>=2.8.2 in c:\\users\\sowmy\\appdata\\roaming\\python\\python312\\site-packages (from pandas>=1.3.5->mstarpy) (2.9.0.post0)\n",
      "Requirement already satisfied: pytz>=2020.1 in c:\\users\\sowmy\\appdata\\roaming\\python\\python312\\site-packages (from pandas>=1.3.5->mstarpy) (2024.1)\n",
      "Requirement already satisfied: tzdata>=2022.7 in c:\\users\\sowmy\\appdata\\roaming\\python\\python312\\site-packages (from pandas>=1.3.5->mstarpy) (2024.1)\n",
      "Requirement already satisfied: charset-normalizer<4,>=2 in c:\\users\\sowmy\\appdata\\roaming\\python\\python312\\site-packages (from requests>=2.28.1->mstarpy) (3.3.2)\n",
      "Requirement already satisfied: idna<4,>=2.5 in c:\\users\\sowmy\\appdata\\roaming\\python\\python312\\site-packages (from requests>=2.28.1->mstarpy) (3.8)\n",
      "Requirement already satisfied: urllib3<3,>=1.21.1 in c:\\users\\sowmy\\appdata\\roaming\\python\\python312\\site-packages (from requests>=2.28.1->mstarpy) (2.2.2)\n",
      "Requirement already satisfied: certifi>=2017.4.17 in c:\\users\\sowmy\\appdata\\roaming\\python\\python312\\site-packages (from requests>=2.28.1->mstarpy) (2024.8.30)\n",
      "Requirement already satisfied: six>=1.5 in c:\\users\\sowmy\\appdata\\roaming\\python\\python312\\site-packages (from python-dateutil>=2.8.2->pandas>=1.3.5->mstarpy) (1.16.0)\n",
      "Note: you may need to restart the kernel to use updated packages.\n"
     ]
    }
   ],
   "source": [
    "pip install mstarpy "
   ]
  },
  {
   "cell_type": "code",
   "execution_count": 21,
   "metadata": {},
   "outputs": [],
   "source": [
    "import json\n",
    "with open('transaction_detail.json') as f:\n",
    "    transactions = json.load(f)\n"
   ]
  },
  {
   "cell_type": "code",
   "execution_count": 22,
   "metadata": {},
   "outputs": [
    {
     "name": "stdout",
     "output_type": "stream",
     "text": [
      "Transaction 0: <class 'dict'>\n"
     ]
    }
   ],
   "source": [
    "with open('transaction_detail.json') as f:\n",
    "    transactions = json.load(f)\n",
    "for i, trxn in enumerate(transactions):\n",
    "    print(f\"Transaction {i}: {type(trxn)}\")\n"
   ]
  },
  {
   "cell_type": "code",
   "execution_count": 23,
   "metadata": {},
   "outputs": [
    {
     "name": "stdout",
     "output_type": "stream",
     "text": [
      "Transaction 0 is already a dictionary\n"
     ]
    }
   ],
   "source": [
    "for i, trxn in enumerate(transactions):\n",
    "    if isinstance(trxn, str): \n",
    "        print(f\"Transaction {i} is a string, trying to parse\")\n",
    "        if trxn.strip():\n",
    "            try:\n",
    "                transactions[i] = json.loads(trxn) \n",
    "            except json.JSONDecodeError:\n",
    "                print(f\"Transaction {i} is not valid JSON, skipping\")\n",
    "                continue\n",
    "        else:\n",
    "            print(f\"Transaction {i} is an empty string, skipping\")\n",
    "    elif isinstance(trxn, dict):\n",
    "        print(f\"Transaction {i} is already a dictionary\")\n",
    "    else:\n",
    "        print(f\"Unexpected data format in transaction {i}, skipping\")\n"
   ]
  },
  {
   "cell_type": "code",
   "execution_count": 24,
   "metadata": {},
   "outputs": [
    {
     "name": "stdout",
     "output_type": "stream",
     "text": [
      "Defaulting to user installation because normal site-packages is not writeable\n",
      "Requirement already satisfied: numpy-financial in c:\\users\\sowmy\\appdata\\roaming\\python\\python312\\site-packages (1.0.0)\n",
      "Requirement already satisfied: numpy>=1.15 in c:\\users\\sowmy\\appdata\\roaming\\python\\python312\\site-packages (from numpy-financial) (1.26.4)\n",
      "Note: you may need to restart the kernel to use updated packages.\n"
     ]
    }
   ],
   "source": [
    "pip install numpy-financial"
   ]
  },
  {
   "cell_type": "code",
   "execution_count": 25,
   "metadata": {},
   "outputs": [
    {
     "name": "stdout",
     "output_type": "stream",
     "text": [
      "Total Portfolio Value: 4568788.70\n",
      "Total Portfolio Gain: 1150385.79\n",
      "Portfolio XIRR: 1.30%\n"
     ]
    }
   ],
   "source": [
    "import json\n",
    "import datetime\n",
    "from collections import defaultdict\n",
    "import numpy as np\n",
    "import numpy_financial as npf\n",
    "\n",
    "# Load the transaction data\n",
    "with open('transaction_detail.json') as f:\n",
    "    data = json.load(f)\n",
    "\n",
    "portfolio_value = 0\n",
    "portfolio_gain = 0\n",
    "\n",
    "cashflows = []\n",
    "dates = []\n",
    "\n",
    "for summary in data[0]['data']:\n",
    "    for scheme in summary['dtSummary']:\n",
    "        closing_balance = float(scheme['closingBalance'])\n",
    "        nav = float(scheme['nav'])\n",
    "        cost_value = float(scheme['costValue'])\n",
    "\n",
    "        current_value = closing_balance * nav\n",
    "        acquisition_cost = cost_value\n",
    "\n",
    "        portfolio_value += current_value\n",
    "        portfolio_gain += (current_value - acquisition_cost)\n",
    "\n",
    "for transaction in data[0]['data']:\n",
    "    for trxn in transaction['dtTransaction']:\n",
    "        if trxn['trxnDesc'] == 'Purchase':  \n",
    "            amount = float(trxn['trxnAmount'])\n",
    "            trxn_date = datetime.datetime.strptime(trxn['trxnDate'], '%d-%b-%Y')\n",
    "            cashflows.append(-amount) \n",
    "            dates.append(trxn_date)\n",
    "cashflows.append(portfolio_value)\n",
    "dates.append(datetime.datetime.now())\n",
    "\n",
    "portfolio_xirr = npf.irr(cashflows) * 100  \n",
    "\n",
    "print(f\"Total Portfolio Value: {portfolio_value:.2f}\")\n",
    "print(f\"Total Portfolio Gain: {portfolio_gain:.2f}\")\n",
    "print(f\"Portfolio XIRR: {portfolio_xirr:.2f}%\")\n"
   ]
  }
 ],
 "metadata": {
  "kernelspec": {
   "display_name": "Python 3",
   "language": "python",
   "name": "python3"
  },
  "language_info": {
   "codemirror_mode": {
    "name": "ipython",
    "version": 3
   },
   "file_extension": ".py",
   "mimetype": "text/x-python",
   "name": "python",
   "nbconvert_exporter": "python",
   "pygments_lexer": "ipython3",
   "version": "3.12.5"
  }
 },
 "nbformat": 4,
 "nbformat_minor": 2
}
